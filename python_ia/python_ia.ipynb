{
 "cells": [
  {
   "cell_type": "code",
   "execution_count": null,
   "id": "d71eb12c",
   "metadata": {},
   "outputs": [],
   "source": [
    "# %pip install pandas scikit-learn"
   ]
  },
  {
   "cell_type": "code",
   "execution_count": null,
   "id": "6cd75918",
   "metadata": {},
   "outputs": [],
   "source": [
    "from os import getcwd, path\n",
    "\n",
    "import pandas as pd\n",
    "from sklearn.neighbors import KNeighborsClassifier\n",
    "from sklearn.ensemble import RandomForestClassifier\n",
    "from sklearn.preprocessing import LabelEncoder\n",
    "from sklearn.metrics import accuracy_score\n",
    "from sklearn.model_selection import train_test_split"
   ]
  },
  {
   "cell_type": "code",
   "execution_count": null,
   "id": "1665355b",
   "metadata": {},
   "outputs": [],
   "source": [
    "df = pd.read_csv(path.join(path.dirname(getcwd()), \"data\", \"clients.csv\"))"
   ]
  },
  {
   "cell_type": "markdown",
   "id": "783b2353",
   "metadata": {},
   "source": [
    "Display the data and information for human preview, in order to understand the\n",
    "types present in the database and detect possible errors and lack of information\n",
    "for correction."
   ]
  },
  {
   "cell_type": "code",
   "execution_count": null,
   "id": "e4bbf34b",
   "metadata": {},
   "outputs": [],
   "source": [
    "display(df)\n",
    "display(df.info())"
   ]
  },
  {
   "cell_type": "markdown",
   "id": "49ec34c1",
   "metadata": {},
   "source": [
    "The \"profissao,\" \"mix_credito,\" and \"comportamento_pagamento\" columns are object\n",
    "types in the database. Therefore, an encoder is created for each of them."
   ]
  },
  {
   "cell_type": "code",
   "execution_count": null,
   "id": "2f12f203",
   "metadata": {},
   "outputs": [],
   "source": [
    "profession_coder = LabelEncoder()\n",
    "credit_mix_coder = LabelEncoder()\n",
    "payment_behavior_coder = LabelEncoder()"
   ]
  },
  {
   "cell_type": "markdown",
   "id": "2a199521",
   "metadata": {},
   "source": [
    "Prepare the database for AI (Label Encoder)"
   ]
  },
  {
   "cell_type": "code",
   "execution_count": null,
   "id": "ba7682b8",
   "metadata": {},
   "outputs": [],
   "source": [
    "df[\"profissao\"] = profession_coder.fit_transform(df[\"profissao\"])\n",
    "df[\"mix_credito\"] = credit_mix_coder.fit_transform(df[\"mix_credito\"])\n",
    "df[\"comportamento_pagamento\"] = payment_behavior_coder.fit_transform(df[\"comportamento_pagamento\"])"
   ]
  },
  {
   "cell_type": "code",
   "execution_count": null,
   "id": "fe694d10",
   "metadata": {},
   "outputs": [],
   "source": [
    "display(df.info())"
   ]
  },
  {
   "cell_type": "markdown",
   "id": "1feb59fd",
   "metadata": {},
   "source": [
    "Prepare the database for AI (Train Test Split Database)"
   ]
  },
  {
   "cell_type": "code",
   "execution_count": null,
   "id": "dfa92feb",
   "metadata": {},
   "outputs": [],
   "source": [
    "y = df[\"score_credito\"]\n",
    "X = df.drop(columns=[\"id_cliente\", \"score_credito\"])"
   ]
  },
  {
   "cell_type": "markdown",
   "id": "2a6fb26b",
   "metadata": {},
   "source": [
    "Separate into training and test data."
   ]
  },
  {
   "cell_type": "code",
   "execution_count": null,
   "id": "12f1ebae",
   "metadata": {},
   "outputs": [],
   "source": [
    "X_train, X_test, y_train, y_test = train_test_split(X, y)"
   ]
  },
  {
   "cell_type": "markdown",
   "id": "57a2bfc1",
   "metadata": {},
   "source": [
    "Instantiate and train IA models"
   ]
  },
  {
   "cell_type": "code",
   "execution_count": null,
   "id": "02f345fc",
   "metadata": {},
   "outputs": [],
   "source": [
    "clf = RandomForestClassifier()\n",
    "neigh = KNeighborsClassifier()"
   ]
  },
  {
   "cell_type": "markdown",
   "id": "362655f4",
   "metadata": {},
   "source": [
    "Training is done automatically, passing to each training model X and Y."
   ]
  },
  {
   "cell_type": "code",
   "execution_count": null,
   "id": "6541474a",
   "metadata": {},
   "outputs": [],
   "source": [
    "clf.fit(X=X_train, y=y_train)\n",
    "neigh.fit(X=X_train, y=y_train)"
   ]
  },
  {
   "cell_type": "markdown",
   "id": "515551e4",
   "metadata": {},
   "source": [
    "Choosing the best AI model."
   ]
  },
  {
   "cell_type": "code",
   "execution_count": null,
   "id": "0caee9bd",
   "metadata": {},
   "outputs": [],
   "source": [
    "pred_clf = clf.predict(X=X_test)\n",
    "pred_neigh = neigh.predict(X=X_test)"
   ]
  },
  {
   "cell_type": "code",
   "execution_count": null,
   "id": "54e74f07",
   "metadata": {},
   "outputs": [],
   "source": [
    "display(accuracy_score(y_test, pred_clf))\n",
    "display(accuracy_score(y_test, pred_neigh))"
   ]
  },
  {
   "cell_type": "markdown",
   "id": "54f92505",
   "metadata": {},
   "source": [
    "Using the chosen model for new predictions."
   ]
  },
  {
   "cell_type": "code",
   "execution_count": null,
   "id": "7347bf66",
   "metadata": {},
   "outputs": [],
   "source": [
    "new_clients = pd.read_csv(path.join(path.dirname(getcwd()), \"data\", \"new_clients.csv\"))"
   ]
  },
  {
   "cell_type": "code",
   "execution_count": null,
   "id": "4051f363",
   "metadata": {},
   "outputs": [],
   "source": [
    "display(new_clients)"
   ]
  },
  {
   "cell_type": "code",
   "execution_count": null,
   "id": "438380a6",
   "metadata": {},
   "outputs": [],
   "source": [
    "new_clients[\"profissao\"] = profession_coder.fit_transform(new_clients[\"profissao\"])\n",
    "new_clients[\"mix_credito\"] = credit_mix_coder.fit_transform(new_clients[\"mix_credito\"])\n",
    "new_clients[\"comportamento_pagamento\"] = payment_behavior_coder.fit_transform(new_clients[\"comportamento_pagamento\"])"
   ]
  },
  {
   "cell_type": "code",
   "execution_count": null,
   "id": "544bb57d",
   "metadata": {},
   "outputs": [],
   "source": [
    "display(clf.predict(new_clients))"
   ]
  }
 ],
 "metadata": {
  "kernelspec": {
   "display_name": ".venv",
   "language": "python",
   "name": "python3"
  },
  "language_info": {
   "codemirror_mode": {
    "name": "ipython",
    "version": 3
   },
   "file_extension": ".py",
   "mimetype": "text/x-python",
   "name": "python",
   "nbconvert_exporter": "python",
   "pygments_lexer": "ipython3",
   "version": "3.13.7"
  }
 },
 "nbformat": 4,
 "nbformat_minor": 5
}
