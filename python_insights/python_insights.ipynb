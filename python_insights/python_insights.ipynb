{
 "cells": [
  {
   "cell_type": "code",
   "execution_count": null,
   "id": "a9177fc6",
   "metadata": {},
   "outputs": [],
   "source": [
    "# %pip install pandas numpy openpyxl nbformat ipykernel plotly"
   ]
  },
  {
   "cell_type": "code",
   "execution_count": null,
   "id": "207e9b8f",
   "metadata": {},
   "outputs": [],
   "source": [
    "from os import getcwd, path\n",
    "\n",
    "import pandas as pd\n",
    "import plotly.express as px"
   ]
  },
  {
   "cell_type": "code",
   "execution_count": null,
   "id": "6e45e7e2",
   "metadata": {},
   "outputs": [],
   "source": [
    "df = pd.read_csv(path.join(path.dirname(getcwd()), \"data\", \"cancellations.csv\"))"
   ]
  },
  {
   "cell_type": "markdown",
   "id": "67668681",
   "metadata": {},
   "source": [
    "Display the database data and the structural information of that data."
   ]
  },
  {
   "cell_type": "code",
   "execution_count": null,
   "id": "bbf95c5d",
   "metadata": {},
   "outputs": [],
   "source": [
    "display(df)\n",
    "display(df.info())"
   ]
  },
  {
   "cell_type": "markdown",
   "id": "63ed7795",
   "metadata": {},
   "source": [
    "Correcting \"errors\" and eliminating information that is irrelevant to the main\n",
    "analysis.\n",
    "\n",
    "* The CustomerID column, being randomly generated data, does not influence the number of cancellations. Therefore, it has been removed\n",
    "* Indexes with empty data can interfere with the main analysis. Therefore, they were also eliminated"
   ]
  },
  {
   "cell_type": "code",
   "execution_count": null,
   "id": "95b80819",
   "metadata": {},
   "outputs": [],
   "source": [
    "df = df.drop(columns=\"CustomerID\")\n",
    "df = df.dropna()\n",
    "\n",
    "display(df.info())"
   ]
  },
  {
   "cell_type": "markdown",
   "id": "83f4ec7f",
   "metadata": {},
   "source": [
    "Starting the main analysis by looking at the actual number of cancellations."
   ]
  },
  {
   "cell_type": "code",
   "execution_count": null,
   "id": "069de1fe",
   "metadata": {},
   "outputs": [],
   "source": [
    "display(df[\"cancelou\"].value_counts())\n",
    "display(df[\"cancelou\"].value_counts(normalize=True))"
   ]
  },
  {
   "cell_type": "markdown",
   "id": "00dc2aac",
   "metadata": {},
   "source": [
    "For each column in the table, create a graph (histogram) showing its direct\n",
    "relationship with the \"cancelou\" column.  \n",
    "The graphical visualization helps to map out the main causes of cancellations\n",
    "in a practical way."
   ]
  },
  {
   "cell_type": "code",
   "execution_count": null,
   "id": "38ecb03c",
   "metadata": {},
   "outputs": [],
   "source": [
    "for column in df.columns:\n",
    "    if column == \"cancelou\": continue\n",
    "    graphic = px.histogram(df, x=column, color=\"cancelou\")\n",
    "    graphic.show()"
   ]
  },
  {
   "cell_type": "markdown",
   "id": "632f6c94",
   "metadata": {},
   "source": [
    "**Main factors for cancellations:**\n",
    "\n",
    "1. All customers with monthly contracts\n",
    "2. Customers who call the call-center more than four times\n",
    "3. Customers who are more than twenty days late\n",
    "\n",
    "**Possible solutions:**\n",
    "\n",
    "1. Offer discounts on quarterly and annual plans\n",
    "2. Try to resolve the customer's problem before the fourth call to the call-center\n",
    "3. Charge the customer before the twenty days of delay\n",
    "\n",
    "**Implementing the solutions:**"
   ]
  },
  {
   "cell_type": "code",
   "execution_count": null,
   "id": "0f4e2d41",
   "metadata": {},
   "outputs": [],
   "source": [
    "df = df[df[\"duracao_contrato\"] != \"Monthly\"]\n",
    "df = df[df[\"ligacoes_callcenter\"] <= 4]\n",
    "df = df[df[\"dias_atraso\"] <= 20]\n",
    "\n",
    "display(df[\"cancelou\"].value_counts())\n",
    "display(df[\"cancelou\"].value_counts(normalize=True))\n",
    "display(df[\"cancelou\"].value_counts(normalize=True).map(\"{:.1%}\".format))"
   ]
  },
  {
   "cell_type": "markdown",
   "id": "69f2dcd2",
   "metadata": {},
   "source": [
    "Previously, cancellations were 56.6%. Applying these solutions, the statistic\n",
    "drops to 18.4%."
   ]
  }
 ],
 "metadata": {
  "kernelspec": {
   "display_name": ".venv",
   "language": "python",
   "name": "python3"
  },
  "language_info": {
   "codemirror_mode": {
    "name": "ipython",
    "version": 3
   },
   "file_extension": ".py",
   "mimetype": "text/x-python",
   "name": "python",
   "nbconvert_exporter": "python",
   "pygments_lexer": "ipython3",
   "version": "3.13.7"
  }
 },
 "nbformat": 4,
 "nbformat_minor": 5
}
