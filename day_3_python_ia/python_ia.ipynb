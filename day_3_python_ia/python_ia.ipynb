{
 "cells": [
  {
   "cell_type": "markdown",
   "id": "655a70f1",
   "metadata": {},
   "source": [
    "## Python IA | inteligência artificial e previsões\n",
    "\n",
    "---\n",
    "### Case | score de crédito dos clientes\n",
    "\n",
    "Você foi contrato por um banco para conseguir definir o score de crédito dos clientes.\n",
    "Você precisa analisar toda a base de dados de clientes do banco e, com base nessa análise, criar um modelo IA que consiga definir o score de crédito do novo cliente com base no dados dele como: **Ruim**; **Regular**; **Bom**.\n",
    "\n",
    "[Download do material auxiliar](https://drive.google.com/drive/folders/1FbDqVq4XLvU85VBlVIMJ73p9oOu6u2-J?usp=drive_link).\n",
    "\n",
    "---\n",
    "### Dependências\n",
    "\n",
    "```\n",
    "pip install pandas scikit-learn\n",
    "```\n",
    "\n",
    "---\n",
    "### Fluxograma\n",
    "\n",
    "```python\n",
    "# 0 entender o desafio e a empresa\n",
    "# 1 importar a base de dados\n",
    "# 2 preparar a base de dados para a inteligência artificial\n",
    "# 3 criar os modelos de IA e os treinar para prever o score de crédito dos clientes\n",
    "# 4 escolher o melhor modelo (acertou com maior precisão)\n",
    "# 5 usar este modelo para fazer novas previsões\n",
    "```"
   ]
  },
  {
   "cell_type": "code",
   "execution_count": null,
   "id": "6cd75918",
   "metadata": {},
   "outputs": [],
   "source": [
    "# importar a dependências do projeto\n",
    "\n",
    "import pandas as pd\n",
    "\n",
    "from sklearn.preprocessing import LabelEncoder\n",
    "from sklearn.ensemble import RandomForestClassifier\n",
    "from sklearn.neighbors import KNeighborsClassifier\n",
    "from sklearn.metrics import accuracy_score\n",
    "from sklearn.model_selection import train_test_split"
   ]
  },
  {
   "cell_type": "code",
   "execution_count": null,
   "id": "e4bbf34b",
   "metadata": {},
   "outputs": [],
   "source": [
    "# 1 importar a base de dados\n",
    "\n",
    "table = pd.read_csv(\"db_clients.csv\")\n",
    "\n",
    "display(table.info())\n",
    "display(table)"
   ]
  },
  {
   "cell_type": "code",
   "execution_count": null,
   "id": "2f12f203",
   "metadata": {},
   "outputs": [],
   "source": [
    "# 2 preparar a base de dados para a IA\n",
    "# transformar as colunas para análise de texto para número (vice e versa - processo de label encoder)\n",
    "\n",
    "profession_coder = LabelEncoder()\n",
    "credit_mix_coder = LabelEncoder()\n",
    "payment_behavior_coder = LabelEncoder()\n",
    "\n",
    "# profissao: string <-> number\n",
    "table[\"profissao\"] = profession_coder.fit_transform(table[\"profissao\"])\n",
    "# mix_credito: string <-> number\n",
    "table[\"mix_credito\"] = credit_mix_coder.fit_transform(table[\"mix_credito\"])\n",
    "# comportamento_pagamento: string <-> number\n",
    "table[\"comportamento_pagamento\"] = payment_behavior_coder.fit_transform(table[\"comportamento_pagamento\"])\n",
    "\n",
    "display(table.info())"
   ]
  },
  {
   "cell_type": "code",
   "execution_count": null,
   "id": "dfa92feb",
   "metadata": {},
   "outputs": [],
   "source": [
    "# 2 preparar a base de dados para a IA\n",
    "# 2.1 separar a tabela em X e Y\n",
    "#     Y é quem eu quero prever (não passa pelo processo de label encoder)\n",
    "#     X são os dados usados para prever Y\n",
    "y = table[\"score_credito\"]\n",
    "X = table.drop(columns=[\"id_cliente\", \"score_credito\"])\n",
    "\n",
    "# 2.2 separar os dados de treinamento e teste para a IA\n",
    "X_train, X_test, y_train, y_test = train_test_split(X, y)  # test_size default = 0.25"
   ]
  },
  {
   "cell_type": "code",
   "execution_count": null,
   "id": "02f345fc",
   "metadata": {},
   "outputs": [],
   "source": [
    "# 3 criar os modelos de IA\n",
    "# 3.1 importar os modelos\n",
    "# 3.2 criar os modelos\n",
    "rfc = RandomForestClassifier()  # modelo de árvore de decisão\n",
    "knc = KNeighborsClassifier()  # modelo de vizinhos próximos\n",
    "\n",
    "# 3.3 treinar os modelos\n",
    "rfc.fit(X=X_train, y=y_train)\n",
    "knc.fit(X=X_train, y=y_train)"
   ]
  },
  {
   "cell_type": "code",
   "execution_count": null,
   "id": "0caee9bd",
   "metadata": {},
   "outputs": [],
   "source": [
    "# 4 escolher o melhor modelo IA\n",
    "# 4.1 testar os modelos\n",
    "pred_rfc = rfc.predict(X=X_test)\n",
    "pred_knc = knc.predict(X=X_test)\n",
    "\n",
    "# 4.2 calcular a acurácia de cada um (maior valor é o melhor)\n",
    "display(accuracy_score(y_test, pred_rfc))  # ~> 83%\n",
    "display(accuracy_score(y_test, pred_knc))  # ~> 75%"
   ]
  },
  {
   "cell_type": "code",
   "execution_count": null,
   "id": "438380a6",
   "metadata": {},
   "outputs": [],
   "source": [
    "# 5 usar o modelo IA para novas previsões\n",
    "\n",
    "new_clients = pd.read_csv(\"new_clients.csv\")\n",
    "\n",
    "display(new_clients)\n",
    "\n",
    "# profissao: string <-> number\n",
    "new_clients[\"profissao\"] = profession_coder.fit_transform(new_clients[\"profissao\"])\n",
    "# mix_credito: string <-> number\n",
    "new_clients[\"mix_credito\"] = credit_mix_coder.fit_transform(new_clients[\"mix_credito\"])\n",
    "#comportamento_pagamento: string <-> number\n",
    "new_clients[\"comportamento_pagamento\"] = payment_behavior_coder.fit_transform(new_clients[\"comportamento_pagamento\"])\n",
    "\n",
    "display(rfc.predict(new_clients))"
   ]
  }
 ],
 "metadata": {
  "kernelspec": {
   "display_name": ".venv",
   "language": "python",
   "name": "python3"
  },
  "language_info": {
   "codemirror_mode": {
    "name": "ipython",
    "version": 3
   },
   "file_extension": ".py",
   "mimetype": "text/x-python",
   "name": "python",
   "nbconvert_exporter": "python",
   "pygments_lexer": "ipython3",
   "version": "3.13.7"
  }
 },
 "nbformat": 4,
 "nbformat_minor": 5
}
