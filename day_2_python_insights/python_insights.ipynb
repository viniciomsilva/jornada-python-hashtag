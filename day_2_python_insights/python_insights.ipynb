{
 "cells": [
  {
   "cell_type": "markdown",
   "id": "46283b2f",
   "metadata": {},
   "source": [
    "# Python Insights | Analyzing data with Python"
   ]
  },
  {
   "cell_type": "markdown",
   "id": "db9d9798",
   "metadata": {},
   "source": [
    "## Case\n",
    "\n",
    "You were hired by a company with over 800,000 customers for a data analysis project.\n",
    "Recently, this company realized that most of the customers in its database are inactive, meaning they have already canceled their accounts.  \n",
    "Needing to improve its results, it decided to understand the reasons behind these cancellations and thus find the most efficient solutions to reduce this number.\n",
    "\n",
    "---\n",
    "\n",
    "[pt-BR] Você foi contrato por uma empresa com mais de 800mil clientes para um projeto de análise de dados.\n",
    "Recentemente esta empresa percebeu que no seu banco de dados de clientes, a maioria são de clientes inativos, ou seja, que já cancelaram o serviço.  \n",
    "Precisando melhorar seus resultados, ela resolveu entender os motivos que levam a esses cancelamentos, e assim, achar as soluções mais eficientes para reduzir este número."
   ]
  },
  {
   "cell_type": "markdown",
   "id": "3d4351d4",
   "metadata": {},
   "source": [
    "## Library Installation\n",
    "\n",
    "* By shell: `pip install pandas numpy openpyxl nbformat ipykernel plotly`\n",
    "* By Jupyter Notebook: `@pip install pandas numpy openpyxl nbformat ipykernel plotly`\n",
    "\n",
    "> Install only once!"
   ]
  },
  {
   "cell_type": "code",
   "execution_count": null,
   "id": "a9177fc6",
   "metadata": {},
   "outputs": [],
   "source": [
    "%pip install pandas numpy openpyxl nbformat ipykernel plotly"
   ]
  },
  {
   "cell_type": "markdown",
   "id": "173f8d06",
   "metadata": {},
   "source": [
    "## Data analysis | Flow\n",
    "\n",
    "1. Import libraries and database\n",
    "2. View (understand) the database\n",
    "3. Correct the database ant prepare it for analysis\n",
    "4. See the actual number of cancellations\n",
    "5. Show the relationship between cancellations and other data in visual graphs *(how does other data directly impact cancellations?)*\n",
    "6. Implement viable solutions and show their numerical results in the number of cancellations"
   ]
  },
  {
   "cell_type": "markdown",
   "id": "7eeb4fbe",
   "metadata": {},
   "source": [
    "### Flow | Import the libs and database\n",
    "\n",
    "Database: comes from the `cancellations.csv` file.\n",
    "\n",
    "Libs:\n",
    "* Pandas: process CSV file data into a Python structure\n",
    "* Plotly Express: create visual graphics\n",
    "\n",
    "All project databases are located in `./databases/`.\n",
    "You must resolve the path before opening any file with Pandas.\n",
    "\n",
    "\n",
    "```python\n",
    "path.join(path.dirname(getcwd()), \"databases\", \"cancellations.csv\")  # .../databases/cancellations.csv\n",
    "```"
   ]
  },
  {
   "cell_type": "code",
   "execution_count": null,
   "id": "207e9b8f",
   "metadata": {},
   "outputs": [],
   "source": [
    "from os import getcwd, path\n",
    "\n",
    "import pandas as pd\n",
    "import plotly.express as px\n",
    "\n",
    "\n",
    "df = pd.read_csv(path.join(path.dirname(getcwd()), \"databases\", \"cancellations.csv\"))"
   ]
  },
  {
   "cell_type": "markdown",
   "id": "67668681",
   "metadata": {},
   "source": [
    "### Flow | View (understand) the database\n",
    "\n",
    "Display the database data and the structural information of that data"
   ]
  },
  {
   "cell_type": "code",
   "execution_count": null,
   "id": "bbf95c5d",
   "metadata": {},
   "outputs": [],
   "source": [
    "display(df)\n",
    "display(df.info())"
   ]
  },
  {
   "cell_type": "markdown",
   "id": "63ed7795",
   "metadata": {},
   "source": [
    "### Flow | Correct database \"errors\"\n",
    "\n",
    "Begin analyzing the data by correcting \"errors\" and eliminating information that is irrelevant to the main analysis.\n",
    "\n",
    "The initial data processing\n",
    "* The CustomerID column, being randomly generated data, does not influence the number of cancellations. Therefore, it has been removed\n",
    "* Indexes with empty data can interfere with the main analysis. Therefore, they were also eliminated\n",
    "\n",
    "\n",
    "```python\n",
    "df = df.drop(columns=\"CustomerID\")  # delete \"CustomerID\" column\n",
    "df = df.dropna()  # delete empty indexes\n",
    "```"
   ]
  },
  {
   "cell_type": "code",
   "execution_count": null,
   "id": "95b80819",
   "metadata": {},
   "outputs": [],
   "source": [
    "df = df.drop(columns=\"CustomerID\")\n",
    "df = df.dropna()\n",
    "\n",
    "display(df.info())"
   ]
  },
  {
   "cell_type": "markdown",
   "id": "83f4ec7f",
   "metadata": {},
   "source": [
    "### Flow | View the actual number of cancellations\n",
    "\n",
    "Starting the main analysis by looking at the actual number of cancellations.\n",
    "\n",
    "\n",
    "```python\n",
    "# shows the actual number of customers who canceled\n",
    "display(df[\"cancelou\"].value_counts())  # show the count of indexes where there is a value in the \"cancelou\" column\n",
    "display(df[\"cancelou\"].value_counts(normalize=True))  # normalizes count value (%) >> 56,6%\n",
    "```"
   ]
  },
  {
   "cell_type": "code",
   "execution_count": null,
   "id": "069de1fe",
   "metadata": {},
   "outputs": [],
   "source": [
    "display(df[\"cancelou\"].value_counts())\n",
    "display(df[\"cancelou\"].value_counts(normalize=True))"
   ]
  },
  {
   "cell_type": "markdown",
   "id": "00dc2aac",
   "metadata": {},
   "source": [
    "### Flow | How does each columns impact cancellations?\n",
    "\n",
    "For each column in the table, create a graph (histogram) showing its direct relationship with the \"cancelou\" column.  \n",
    "The graphical visualization helps to map out the main causes of cancellations in a practical way.\n",
    "\n",
    "\n",
    "```python\n",
    "for column in df.columns:\n",
    "    # creates a histogram relating the value of the current column to the \"canceled\" column.\n",
    "    graphic = px.histogram(df, x=column, color=\"cancelou\")\n",
    "    graphic.show()  # shows the graphic\n",
    "```"
   ]
  },
  {
   "cell_type": "code",
   "execution_count": null,
   "id": "38ecb03c",
   "metadata": {},
   "outputs": [],
   "source": [
    "for column in df.columns:\n",
    "    if column == \"cancelou\": continue\n",
    "    graphic = px.histogram(df, x=column, color=\"cancelou\")\n",
    "    graphic.show()"
   ]
  },
  {
   "cell_type": "markdown",
   "id": "632f6c94",
   "metadata": {},
   "source": [
    "## Result\n",
    "\n",
    "Main factors for cancellations:\n",
    "1. All customers with monthly contracts\n",
    "2. Customers who call the call-center more than four times\n",
    "3. Customers who are more than twenty days late\n",
    "\n",
    "Possible solutions:\n",
    "1. Offer discounts on quarterly and annual plans\n",
    "2. Try to resolve the customer's problem before the fourth call to the call-center\n",
    "3. Charge the customer before the twenty days of delay\n",
    "\n",
    "Implementing the solutions:\n",
    "\n",
    "\n",
    "```python\n",
    "df = df[df[\"duracao_contrato\"] != \"Monthly\"]  # remove customers with a contract duration equal to “Monthly”\n",
    "df = df[df[\"ligacoes_callcenter\"] <= 4]  # remove customers with more than four calls to the call center\n",
    "df = df[df[\"dias_atraso\"] <= 20]  # remove customers who are more than twenty days late\n",
    "\n",
    "# shows the new cancellation statistics after applying the solutions\n",
    "display(df[\"cancelou\"].value_counts())\n",
    "display(df[\"cancelou\"].value_counts(normalize=True))\n",
    "display(df[\"cancelou\"].value_counts(normalize=True).map(\"{:.1%}\".format))  # formatted value (%) >> 18.4%\n",
    "```"
   ]
  },
  {
   "cell_type": "code",
   "execution_count": null,
   "id": "0f4e2d41",
   "metadata": {},
   "outputs": [],
   "source": [
    "df = df[df[\"duracao_contrato\"] != \"Monthly\"]\n",
    "df = df[df[\"ligacoes_callcenter\"] <= 4]\n",
    "df = df[df[\"dias_atraso\"] <= 20]\n",
    "\n",
    "display(df[\"cancelou\"].value_counts())\n",
    "display(df[\"cancelou\"].value_counts(normalize=True))\n",
    "display(df[\"cancelou\"].value_counts(normalize=True).map(\"{:.1%}\".format))"
   ]
  }
 ],
 "metadata": {
  "kernelspec": {
   "display_name": ".venv",
   "language": "python",
   "name": "python3"
  },
  "language_info": {
   "codemirror_mode": {
    "name": "ipython",
    "version": 3
   },
   "file_extension": ".py",
   "mimetype": "text/x-python",
   "name": "python",
   "nbconvert_exporter": "python",
   "pygments_lexer": "ipython3",
   "version": "3.13.7"
  }
 },
 "nbformat": 4,
 "nbformat_minor": 5
}
