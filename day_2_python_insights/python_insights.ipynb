{
 "cells": [
  {
   "cell_type": "markdown",
   "id": "46283b2f",
   "metadata": {},
   "source": [
    "## Python Insights | analisando dados com Python\n",
    "\n",
    "---\n",
    "### Case | cancelamento de clientes\n",
    "\n",
    "Você foi contrato por uma empresa com mais de 800mil clientes para um projeto de análise de dados.\n",
    "Recentemente esta empresa percebeu que no seu banco de dados de clientes, a maioria são de clientes inativos, ou seja, que já cancelaram o serviço.\n",
    "\n",
    "Precisando melhorar seus resultados, ela resolveu entender os motivos que levam a esses cancelamentos, e assim, achar as soluções mais eficientes para reduzir este número.\n",
    "\n",
    "[Download do material auxiliar](https://drive.google.com/drive/folders/1uDesZePdkhiraJmiyeZ-w5tfc8XsNYFZ?usp=drive_link).\n",
    "\n",
    "---\n",
    "### Dependências\n",
    "\n",
    "```cmd\n",
    "pip install pandas numpy openpyxl nbformat ipykernel plotly\n",
    "```\n",
    "\n",
    "---\n",
    "### Fluxograma\n",
    "\n",
    "```python\n",
    "# 1 importar base de dados\n",
    "# 2 visualizar (entender) a base de dados \n",
    "# 3 corrigir erros da base de dados e prepará-la para análise\n",
    "# 4 analisar os cancelamentos\n",
    "# 5 mostrar a análise dos cancelamentos de forma visual com gráficos\n",
    "    # como as colunas impactam no cancelamento?\n",
    "# 6 mostrar como as soluções propostam podem melhorar as estatísticas\n",
    "```"
   ]
  },
  {
   "cell_type": "code",
   "execution_count": null,
   "id": "207e9b8f",
   "metadata": {},
   "outputs": [],
   "source": [
    "# 1 importar a base de dados\n",
    "\n",
    "import pandas as pd\n",
    "import plotly.express as px\n",
    "\n",
    "table = pd.read_csv(\"cancellations_sample.csv\")\n",
    "display(table)"
   ]
  },
  {
   "cell_type": "code",
   "execution_count": null,
   "id": "bbf95c5d",
   "metadata": {},
   "outputs": [],
   "source": [
    "# 2 visualizar (entender) a base de dados\n",
    "# remover informações desnecessárias para este projeto\n",
    "\n",
    "table = table.drop(columns=\"CustomerID\")  # coluna ID não impacta na análise\n",
    "display(table)"
   ]
  },
  {
   "cell_type": "code",
   "execution_count": null,
   "id": "95b80819",
   "metadata": {},
   "outputs": [],
   "source": [
    "# 3 corrigir erros da base de dados\n",
    "\n",
    "display(table.info())  # informações da tabela\n",
    "\n",
    "table = table.dropna()  # eliminar linhas vazias\n",
    "display(table.info())"
   ]
  },
  {
   "cell_type": "code",
   "execution_count": null,
   "id": "069de1fe",
   "metadata": {},
   "outputs": [],
   "source": [
    "# 4 iniciar a análise dos cancelamos\n",
    "\n",
    "# quantidade de pessoas que cancelaram (valores reais)\n",
    "display(table[\"cancelou\"].value_counts())\n",
    "# quantidade de pessoas que cancelaram (porcentagem)\n",
    "display(table[\"cancelou\"].value_counts(normalize=True))\n",
    "display(table[\"cancelou\"].value_counts(normalize=True).map(\"{:.1%}\".format))"
   ]
  },
  {
   "cell_type": "code",
   "execution_count": null,
   "id": "38ecb03c",
   "metadata": {},
   "outputs": [],
   "source": [
    "# 5 como cada coluna impacta nos cancelamentos?\n",
    "# visualizar de forma gráfica\n",
    "\n",
    "for column in table.columns:\n",
    "    graphic = px.histogram(table, x=column, color=\"cancelou\")\n",
    "    graphic.show()"
   ]
  },
  {
   "cell_type": "code",
   "execution_count": null,
   "id": "0f4e2d41",
   "metadata": {},
   "outputs": [],
   "source": [
    "# 6 análise final\n",
    "\n",
    "# principais causas dos cancelamentos\n",
    "    # 1. todos os clientes com contrato mensal cancelaram\n",
    "    # 2. clientes que ligam para o call center mais de quantro vezes cancelam\n",
    "    # 3. clientes que atrasam mais de vinte dias cancelam\n",
    "\n",
    "# possíveis soluções\n",
    "    # 1. oferecer desconto nos planos trimestral e anual\n",
    "    # 2. resolver o problema do cliente antes de ele ligar quatro vezes pro call center\n",
    "    # 3. cobrar ao clientes para não atrasar mais de vinte dias\n",
    "\n",
    "# aplicar a primeira solução\n",
    "table = table[table[\"duracao_contrato\"] != \"Monthly\"]\n",
    "display(table[\"cancelou\"].value_counts())\n",
    "display(table[\"cancelou\"].value_counts(normalize=True))\n",
    "\n",
    "# aplicar a segunda solução\n",
    "table = table[table[\"ligacoes_callcenter\"] <= 4]\n",
    "display(table[\"cancelou\"].value_counts())\n",
    "display(table[\"cancelou\"].value_counts(normalize=True))\n",
    "\n",
    "# aplicar a terceira solução\n",
    "table = table[table[\"dias_atraso\"] <= 20]\n",
    "display(table[\"cancelou\"].value_counts())\n",
    "display(table[\"cancelou\"].value_counts(normalize=True))\n",
    "\n",
    "# resolvendo todos os três principais problemas\n",
    "display(table[\"cancelou\"].value_counts(normalize=True).map(\"{:.1%}\".format))"
   ]
  }
 ],
 "metadata": {
  "kernelspec": {
   "display_name": ".venv",
   "language": "python",
   "name": "python3"
  },
  "language_info": {
   "codemirror_mode": {
    "name": "ipython",
    "version": 3
   },
   "file_extension": ".py",
   "mimetype": "text/x-python",
   "name": "python",
   "nbconvert_exporter": "python",
   "pygments_lexer": "ipython3",
   "version": "3.13.7"
  }
 },
 "nbformat": 4,
 "nbformat_minor": 5
}
